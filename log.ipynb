{
 "metadata": {
  "language_info": {
   "codemirror_mode": {
    "name": "ipython",
    "version": 3
   },
   "file_extension": ".py",
   "mimetype": "text/x-python",
   "name": "python",
   "nbconvert_exporter": "python",
   "pygments_lexer": "ipython3",
   "version": "3.7.0"
  },
  "orig_nbformat": 4,
  "kernelspec": {
   "name": "python3",
   "display_name": "Python 3.7.0 64-bit ('wod': conda)"
  },
  "interpreter": {
   "hash": "967d35f40ff2c1d266ffcfb0b6f007ae0bcc3aac5c0917f8999705f579b44df1"
  }
 },
 "nbformat": 4,
 "nbformat_minor": 2,
 "cells": [
  {
   "source": [
    "There might be notifications from the website indicating what would be accessible and what not. \n",
    "```ADDRESS/robots.txt``` "
   ],
   "cell_type": "markdown",
   "metadata": {}
  },
  {
   "cell_type": "code",
   "execution_count": null,
   "metadata": {},
   "outputs": [],
   "source": [
    "import requests\n",
    "from bs4 import BeautifulSoup\n",
    "import http.cookiejar as cj\n",
    "import re"
   ]
  },
  {
   "cell_type": "code",
   "execution_count": null,
   "metadata": {},
   "outputs": [],
   "source": [
    "url = 'https://movie.douban.com/top250'\n",
    "headers = {\"User-Agent\": \"Mozilla/5.0 (Windows NT 10.0; Win64; x64) AppleWebKit/537.36 (KHTML, like Gecko) Chrome/91.0.4472.124 Safari/537.36\",\n",
    "# \"Accept\": \"text/html,application/xhtml+xml,application/xml;q=0.9,image/avif,image/webp,image/apng,*/*;q=0.8,application/signed-exchange;v=b3;q=0.9\",\n",
    "# \"Accept-Encoding\": \"gzip, deflate\",\n",
    "# \"Accept-Language\": \"en-US,en;q=0.9,zh-CN;q=0.8,zh;q=0.7,nl;q=0.6\"\n",
    "}"
   ]
  },
  {
   "cell_type": "code",
   "execution_count": null,
   "metadata": {},
   "outputs": [],
   "source": [
    "r = requests.get(url, headers=headers)\n",
    "# r.content\n",
    "# r.encoding = \"UTF-8\"\n",
    "# r.text"
   ]
  },
  {
   "cell_type": "code",
   "execution_count": null,
   "metadata": {},
   "outputs": [],
   "source": [
    "soup = BeautifulSoup(r.text)"
   ]
  },
  {
   "cell_type": "code",
   "execution_count": null,
   "metadata": {},
   "outputs": [],
   "source": [
    "# return a list\n",
    "soup.find_all('div', class_='info')"
   ]
  },
  {
   "cell_type": "code",
   "execution_count": null,
   "metadata": {},
   "outputs": [],
   "source": [
    "# return a Tag\n",
    "soup.find_all('div', class_='info')[0].find('p', class_='')"
   ]
  },
  {
   "cell_type": "code",
   "execution_count": null,
   "metadata": {},
   "outputs": [],
   "source": [
    "# return a generator\n",
    "for i in soup.find_all('div', class_='info')[0].find('p', class_='').strings:\n",
    "    print(f'before: \\n {i}')\n",
    "    print(f'after: \\n {i.strip()}')\n",
    "    print(type(i))"
   ]
  },
  {
   "cell_type": "code",
   "execution_count": null,
   "metadata": {},
   "outputs": [],
   "source": [
    "list(soup.find_all('div', class_='info')[0].find('p', class_='').strings)[0].strip().replace('\\xa0', '')"
   ]
  },
  {
   "cell_type": "code",
   "execution_count": null,
   "metadata": {},
   "outputs": [],
   "source": [
    "for each in soup.find_all('div', class_='info'): \n",
    "    # go to the last label set; similar: `next_sibling`\n",
    "    img_url = each.previous_sibling.a.image['src']\n",
    "    title = each.find('div', class_='hd').get_text(strip=True)\n",
    "    actor = list(each.find('p').strings)[0].strip().replace('\\xa0', '')\n",
    "\n",
    "\n",
    "    with open('*.jpg', 'wb') as img:\n",
    "        img.write(requests.get(img_url, headers=headers).content)\n",
    "    # with open('*.')\n",
    "    try: \n",
    "        url = 'https://movie.douban.com/top250' + soup.find('span',class_='next').a['href']\n",
    "    except TypeError: \n",
    "        url = none\n"
   ]
  },
  {
   "source": [
    "# Regularization"
   ],
   "cell_type": "markdown",
   "metadata": {}
  },
  {
   "cell_type": "code",
   "execution_count": null,
   "metadata": {},
   "outputs": [],
   "source": [
    "import re"
   ]
  },
  {
   "source": [
    "## pattern\n",
    "### expression: \n",
    "`r'PATTERN'`\n"
   ],
   "cell_type": "markdown",
   "metadata": {}
  },
  {
   "source": [
    "match a character: \n",
    "```python\n",
    "r'a'\n",
    "r'[abcd]'\n",
    "r'[a-zA-Z]'\n",
    "r'[12-56]'\n",
    "r'[{.|*&\\\\]' # use '\\' to transfer meaning\n",
    "r'[^0-9]'\n",
    "```\n"
   ],
   "cell_type": "markdown",
   "metadata": {}
  },
  {
   "cell_type": "code",
   "execution_count": null,
   "metadata": {},
   "outputs": [],
   "source": [
    "my_str = 'Isaac Newton, physicist'\n",
    "# return the first match in a Match object\n",
    "re.match(r'a', my_str) \n",
    "# return a Match object\n",
    "re.search(r'aa', my_str)\n",
    "re.findall(r'aa', my_str)"
   ]
  },
  {
   "cell_type": "code",
   "execution_count": 137,
   "metadata": {},
   "outputs": [],
   "source": [
    "from selenium import webdriver\n",
    "from selenium.webdriver.common.keys import Keys\n",
    "from selenium.webdriver.support.ui import Select\n",
    "\n",
    "from bs4 import BeautifulSoup\n",
    "import re\n",
    "import time\n",
    "\n",
    "def delay(sec=5):\n",
    "    time.sleep(sec)\n",
    "\n",
    "# headless mode\n",
    "options = webdriver.FirefoxOptions()\n",
    "options.add_argument(\"--headless\")\n",
    "\n",
    "driver = webdriver.Firefox()\n",
    "driver.get(\"http://delta.world-of-dungeons.org/\")\n",
    "Select(driver.find_element_by_id(\"world\")).select_by_value(\"CD\")\n",
    "driver.find_element_by_xpath('//*[@id=\"USERNAME\"]').send_keys('blackstick')\n",
    "driver.find_element_by_xpath('//*[@id=\"PASSWORT\"]').send_keys('mD8kMbRyF7giAJK', Keys.ENTER)\n",
    "\n",
    "delay()\n",
    "\n",
    "driver.get(\"http://delta.world-of-dungeons.org/wod/spiel/settings/heroes.php\")\n",
    "\n",
    "avatars = {'Johnny':102198, 'Blackstick':100555, 'Phaziben':103225, 'Jan':102415, 'Lios':102324, 'Frint':101489}\n",
    "# stayed_hero_id = [avatars['Johnny'], avatars['Blackstick']]\n",
    "rotate_hero_id = [avatars['Johnny'], avatars['Blackstick'], \n",
    "                    avatars['Phaziben'], avatars['Frint']]\n",
    "\n",
    "\n",
    "cur_char = avatars['Blackstick']\n",
    "\n",
    "# activate current avatar = Jan\n",
    "driver.find_element_by_xpath(f'//td/input[@value=\"{cur_char}\"]').click()\n",
    "driver.find_element_by_xpath('//p/input[@name=\"ok\"]').click()\n",
    "\n",
    "# Report\n",
    "driver.get(f\"http://delta.world-of-dungeons.org/wod/spiel/dungeon/report.php?session_hero_id={cur_char}\")\n",
    "\n",
    "# driver.quit()"
   ]
  },
  {
   "cell_type": "code",
   "execution_count": 141,
   "metadata": {},
   "outputs": [],
   "source": [
    "soup = BeautifulSoup(driver.page_source, \"lxml\",from_encoding='utf-8')"
   ]
  },
  {
   "cell_type": "code",
   "execution_count": null,
   "metadata": {},
   "outputs": [],
   "source": [
    "soup.find_all('a', {'name':re.compile('#*')})[0]\r\n",
    "soup.find_all('a', {'name':re.compile('#*')})[0].parent.next_sibling.next_sibling.find_all()"
   ]
  },
  {
   "cell_type": "code",
   "execution_count": null,
   "metadata": {},
   "outputs": [],
   "source": [
    "# find items in wishlist\r\n",
    "soup.find_all('h3', text='战利品')[-2].parent.find_all('a', text=re.compile('青铜'))"
   ]
  },
  {
   "cell_type": "code",
   "execution_count": 144,
   "metadata": {},
   "outputs": [
    {
     "output_type": "execute_result",
     "data": {
      "text/plain": [
       "['简易疫病护身符', '一把生锈的转轮短枪', '简易权杖头巾', '邪灵手杖']"
      ]
     },
     "metadata": {},
     "execution_count": 144
    }
   ],
   "source": [
    "findings = []\n",
    "for char in soup.find_all('h3', text='战利品'):\n",
    "    for i in char.parent.find_all('a', class_=\"report rep_uni item_unique\"):\n",
    "        findings.append(i.string)\n",
    "findings"
   ]
  },
  {
   "cell_type": "code",
   "execution_count": null,
   "metadata": {},
   "outputs": [],
   "source": [
    "# test write, read and encoding\n",
    "raw = driver.find_element_by_xpath(\"//table[@class='content_table']\").get_attribute('innerHTML')\n",
    "with open('temp.log', 'w', encoding='utf-8') as f:\n",
    "    f.write(driver.find_element_by_xpath(\"//table[@class='content_table']\").get_attribute('innerHTML'))\n",
    "with open('./temp.log', 'r', encoding='utf-8') as f:\n",
    "    raw_text = f.read()\n",
    "print(raw_text)\n"
   ]
  },
  {
   "cell_type": "code",
   "execution_count": null,
   "metadata": {},
   "outputs": [],
   "source": []
  },
  {
   "cell_type": "code",
   "execution_count": null,
   "metadata": {
    "tags": []
   },
   "outputs": [],
   "source": [
    "pattern = r'(?<!class=)\"read.{7}'\n",
    "test_text = '<span class=\"read-count\" name=\"read-number\">阅读数：641</span>'\n",
    "re.search(pattern, test_text)"
   ]
  },
  {
   "source": [
    "re.search(r'[0-9][0-9].[0-9][0-9]', next_time).group(0)"
   ],
   "cell_type": "code",
   "metadata": {},
   "execution_count": null,
   "outputs": []
  },
  {
   "cell_type": "code",
   "execution_count": null,
   "metadata": {},
   "outputs": [],
   "source": [
    "print(re.search('com', 'www.runoob.com').group(0))  # 在起始位置匹配\n",
    "print(re.match('com', 'www.runoob.com'))         # 不在起始位置匹配"
   ]
  },
  {
   "cell_type": "code",
   "execution_count": null,
   "metadata": {},
   "outputs": [],
   "source": []
  },
  {
   "cell_type": "code",
   "execution_count": null,
   "metadata": {},
   "outputs": [],
   "source": [
    "for i in avatars:\n",
    "    print(i)"
   ]
  },
  {
   "cell_type": "code",
   "execution_count": null,
   "metadata": {},
   "outputs": [],
   "source": [
    "avatars = {'Johnny':102198, 'Blackstick':100555, 'Phaziben':103225, 'Jan':102415, 'Lios':102324, 'Frint':101489}\n"
   ]
  },
  {
   "cell_type": "code",
   "execution_count": null,
   "metadata": {},
   "outputs": [],
   "source": [
    "import schedule\n",
    "\n",
    "\n",
    "# 定义你要周期运行的函数\n",
    "def job():\n",
    "    print(\"I'm working...\")\n",
    "    return schedule.CancelJob\n",
    "\n",
    "schedule.every().wednesday.at(\"13:15\").do(job)\n",
    "schedule.every().day.at(\"10:30\").do(job)         # 每天在 10:30 时间点运行 job 函数\n",
    "\n",
    "\n",
    "while True:\n",
    "    schedule.run_pending()   # 运行所有可以运行的任务\n",
    "    print(schedule.get_jobs())\n",
    "    time.sleep(60)"
   ]
  },
  {
   "cell_type": "code",
   "execution_count": null,
   "metadata": {},
   "outputs": [],
   "source": [
    "import time\n",
    "time.gmtime()"
   ]
  },
  {
   "cell_type": "code",
   "execution_count": null,
   "metadata": {},
   "outputs": [],
   "source": [
    "time.mktime(time.localtime())"
   ]
  },
  {
   "cell_type": "code",
   "execution_count": null,
   "metadata": {},
   "outputs": [],
   "source": [
    "time.ctime(58)"
   ]
  },
  {
   "cell_type": "code",
   "execution_count": null,
   "metadata": {},
   "outputs": [],
   "source": [
    "try:\n",
    "    print(\"try\")\n",
    "except Exception as e:\n",
    "    print(f\"Error {e}\")\n",
    "else:\n",
    "    print(\"else\")\n",
    "try:\n",
    "    print(\"try 2\")\n",
    "except Exception as e:\n",
    "    print(f\"Error 2 {e}\")\n",
    "else:\n",
    "    print(\"else 2\")\n",
    "finally:\n",
    "    print(\"finally\")"
   ]
  },
  {
   "cell_type": "code",
   "execution_count": null,
   "metadata": {},
   "outputs": [],
   "source": [
    "time1 = '23:59'  \n",
    "time2 = '00:01'\n",
    "(time1[:2], time2[:2]) == ('23', '00')"
   ]
  },
  {
   "cell_type": "code",
   "execution_count": null,
   "metadata": {},
   "outputs": [],
   "source": []
  }
 ]
}