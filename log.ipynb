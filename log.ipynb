{
 "cells": [
  {
   "cell_type": "markdown",
   "source": [
    "There might be notifications from the website indicating what would be accessible and what not. \n",
    "```ADDRESS/robots.txt``` "
   ],
   "metadata": {}
  },
  {
   "cell_type": "code",
   "execution_count": null,
   "source": [
    "import requests\r\n",
    "from bs4 import BeautifulSoup\r\n",
    "import http.cookiejar as cj\r\n",
    "import re"
   ],
   "outputs": [],
   "metadata": {}
  },
  {
   "cell_type": "code",
   "execution_count": null,
   "source": [
    "url = 'https://movie.douban.com/top250'\r\n",
    "headers = {\"User-Agent\": \"Mozilla/5.0 (Windows NT 10.0; Win64; x64) AppleWebKit/537.36 (KHTML, like Gecko) Chrome/91.0.4472.124 Safari/537.36\",\r\n",
    "# \"Accept\": \"text/html,application/xhtml+xml,application/xml;q=0.9,image/avif,image/webp,image/apng,*/*;q=0.8,application/signed-exchange;v=b3;q=0.9\",\r\n",
    "# \"Accept-Encoding\": \"gzip, deflate\",\r\n",
    "# \"Accept-Language\": \"en-US,en;q=0.9,zh-CN;q=0.8,zh;q=0.7,nl;q=0.6\"\r\n",
    "}"
   ],
   "outputs": [],
   "metadata": {}
  },
  {
   "cell_type": "code",
   "execution_count": null,
   "source": [
    "r = requests.get(url, headers=headers)\r\n",
    "# r.content\r\n",
    "# r.encoding = \"UTF-8\"\r\n",
    "# r.text"
   ],
   "outputs": [],
   "metadata": {}
  },
  {
   "cell_type": "code",
   "execution_count": null,
   "source": [
    "soup = BeautifulSoup(r.text)"
   ],
   "outputs": [],
   "metadata": {}
  },
  {
   "cell_type": "code",
   "execution_count": null,
   "source": [
    "# return a list\r\n",
    "soup.find_all('div', class_='info')"
   ],
   "outputs": [],
   "metadata": {}
  },
  {
   "cell_type": "code",
   "execution_count": null,
   "source": [
    "# return a Tag\r\n",
    "soup.find_all('div', class_='info')[0].find('p', class_='')"
   ],
   "outputs": [],
   "metadata": {}
  },
  {
   "cell_type": "code",
   "execution_count": null,
   "source": [
    "# return a generator\r\n",
    "for i in soup.find_all('div', class_='info')[0].find('p', class_='').strings:\r\n",
    "    print(f'before: \\n {i}')\r\n",
    "    print(f'after: \\n {i.strip()}')\r\n",
    "    print(type(i))"
   ],
   "outputs": [],
   "metadata": {}
  },
  {
   "cell_type": "code",
   "execution_count": null,
   "source": [
    "list(soup.find_all('div', class_='info')[0].find('p', class_='').strings)[0].strip().replace('\\xa0', '')"
   ],
   "outputs": [],
   "metadata": {}
  },
  {
   "cell_type": "code",
   "execution_count": null,
   "source": [
    "for each in soup.find_all('div', class_='info'): \r\n",
    "    # go to the last label set; similar: `next_sibling`\r\n",
    "    img_url = each.previous_sibling.a.image['src']\r\n",
    "    title = each.find('div', class_='hd').get_text(strip=True)\r\n",
    "    actor = list(each.find('p').strings)[0].strip().replace('\\xa0', '')\r\n",
    "\r\n",
    "\r\n",
    "    with open('*.jpg', 'wb') as img:\r\n",
    "        img.write(requests.get(img_url, headers=headers).content)\r\n",
    "    # with open('*.')\r\n",
    "    try: \r\n",
    "        url = 'https://movie.douban.com/top250' + soup.find('span',class_='next').a['href']\r\n",
    "    except TypeError: \r\n",
    "        url = none\r\n"
   ],
   "outputs": [],
   "metadata": {}
  },
  {
   "cell_type": "markdown",
   "source": [
    "# Regularization"
   ],
   "metadata": {}
  },
  {
   "cell_type": "code",
   "execution_count": null,
   "source": [
    "import re"
   ],
   "outputs": [],
   "metadata": {}
  },
  {
   "cell_type": "markdown",
   "source": [
    "## pattern\n",
    "### expression: \n",
    "`r'PATTERN'`\n"
   ],
   "metadata": {}
  },
  {
   "cell_type": "markdown",
   "source": [
    "match a character: \n",
    "```python\n",
    "r'a'\n",
    "r'[abcd]'\n",
    "r'[a-zA-Z]'\n",
    "r'[12-56]'\n",
    "r'[{.|*&\\\\]' # use '\\' to transfer meaning\n",
    "r'[^0-9]'\n",
    "```\n"
   ],
   "metadata": {}
  },
  {
   "cell_type": "code",
   "execution_count": null,
   "source": [
    "my_str = 'Isaac Newton, physicist'\r\n",
    "# return the first match in a Match object\r\n",
    "re.match(r'a', my_str) \r\n",
    "# return a Match object\r\n",
    "re.search(r'aa', my_str)\r\n",
    "re.findall(r'aa', my_str)"
   ],
   "outputs": [],
   "metadata": {}
  },
  {
   "cell_type": "code",
   "execution_count": 4,
   "source": [
    "from selenium import webdriver\r\n",
    "from selenium.webdriver.common.keys import Keys\r\n",
    "from selenium.webdriver.support.ui import Select\r\n",
    "\r\n",
    "from bs4 import BeautifulSoup\r\n",
    "import re\r\n",
    "import time\r\n",
    "\r\n",
    "def delay(sec=5):\r\n",
    "    time.sleep(sec)\r\n",
    "\r\n",
    "# headless mode\r\n",
    "options = webdriver.FirefoxOptions()\r\n",
    "options.add_argument(\"--headless\")\r\n",
    "\r\n",
    "driver = webdriver.Firefox()\r\n",
    "driver.get(\"http://delta.world-of-dungeons.org/\")\r\n",
    "Select(driver.find_element_by_id(\"world\")).select_by_value(\"CD\")\r\n",
    "driver.find_element_by_xpath('//*[@id=\"USERNAME\"]').send_keys('blackstick')\r\n",
    "driver.find_element_by_xpath('//*[@id=\"PASSWORT\"]').send_keys('mD8kMbRyF7giAJK', Keys.ENTER)\r\n",
    "\r\n",
    "delay()\r\n",
    "\r\n",
    "driver.get(\"http://delta.world-of-dungeons.org/wod/spiel/settings/heroes.php\")\r\n",
    "\r\n",
    "avatars = {'Shiqian':102198, 'Volo':104539, 'Jan':102415, \r\n",
    "            'Phaziben':103225, 'Baggins':103900, 'Frint':101489,\r\n",
    "            'Bubu':106107, 'Artanis':106402, 'Russ':106407}# stayed_hero_id = [avatars['Johnny'], avatars['Blackstick']]\r\n",
    "rotate_hero_id = [avatars['Shiqian'], avatars['Volo'], \r\n",
    "                    avatars['Phaziben'], avatars['Frint']]\r\n",
    "\r\n",
    "\r\n",
    "cur_char = avatars['Volo']\r\n",
    "\r\n",
    "# activate current avatar = Jan\r\n",
    "driver.find_element_by_xpath(f'//td/input[@value=\"{cur_char}\"]').click()\r\n",
    "driver.find_element_by_xpath('//p/input[@name=\"ok\"]').click()\r\n",
    "\r\n",
    "# Report\r\n",
    "# driver.get(f\"http://delta.world-of-dungeons.org/wod/spiel/dungeon/report.php?session_hero_id={cur_char}\")\r\n",
    "\r\n",
    "\r\n",
    "# driver.quit()"
   ],
   "outputs": [],
   "metadata": {}
  },
  {
   "cell_type": "code",
   "execution_count": 7,
   "source": [
    "for k, v in avatars.items():\r\n",
    "    if driver.find_element_by_xpath(f'//input[@name=\"aktiv[{v}]\"]').get_attribute(\"checked\"):\r\n",
    "        print(f\"{k} checked\")\r\n",
    "    else: \r\n",
    "        print(f\"{k} unchecked\")"
   ],
   "outputs": [
    {
     "output_type": "stream",
     "name": "stdout",
     "text": [
      "Shiqian checked\n",
      "Volo checked\n",
      "Jan checked\n",
      "Phaziben unchecked\n",
      "Baggins unchecked\n",
      "Frint unchecked\n",
      "Bubu unchecked\n",
      "Artanis unchecked\n",
      "Russ unchecked\n"
     ]
    }
   ],
   "metadata": {}
  },
  {
   "cell_type": "code",
   "execution_count": 13,
   "source": [
    "a = [1, 2, 3]\r\n",
    "*a"
   ],
   "outputs": [
    {
     "output_type": "error",
     "ename": "SyntaxError",
     "evalue": "can't use starred expression here (<ipython-input-13-04320f2a2432>, line 5)",
     "traceback": [
      "\u001b[1;36m  File \u001b[1;32m\"<ipython-input-13-04320f2a2432>\"\u001b[1;36m, line \u001b[1;32m5\u001b[0m\n\u001b[1;31mSyntaxError\u001b[0m\u001b[1;31m:\u001b[0m can't use starred expression here\n"
     ]
    }
   ],
   "metadata": {}
  },
  {
   "cell_type": "code",
   "execution_count": null,
   "source": [
    "soup = BeautifulSoup(driver.page_source, \"lxml\",from_encoding='utf-8')"
   ],
   "outputs": [],
   "metadata": {}
  },
  {
   "cell_type": "code",
   "execution_count": null,
   "source": [
    "soup.find_all('a', {'name':re.compile('#*')})[0]\r\n",
    "soup.find_all('a', {'name':re.compile('#*')})[0].parent.next_sibling.next_sibling.find_all()"
   ],
   "outputs": [],
   "metadata": {}
  },
  {
   "cell_type": "code",
   "execution_count": null,
   "source": [
    "# find items in wishlist\r\n",
    "soup.find_all('h3', text='战利品')[-2].parent.find_all('a', text=re.compile('青铜'))"
   ],
   "outputs": [],
   "metadata": {}
  },
  {
   "cell_type": "code",
   "execution_count": 144,
   "source": [
    "findings = []\r\n",
    "for char in soup.find_all('h3', text='战利品'):\r\n",
    "    for i in char.parent.find_all('a', class_=\"report rep_uni item_unique\"):\r\n",
    "        findings.append(i.string)\r\n",
    "findings"
   ],
   "outputs": [
    {
     "output_type": "execute_result",
     "data": {
      "text/plain": [
       "['简易疫病护身符', '一把生锈的转轮短枪', '简易权杖头巾', '邪灵手杖']"
      ]
     },
     "metadata": {},
     "execution_count": 144
    }
   ],
   "metadata": {}
  },
  {
   "cell_type": "code",
   "execution_count": null,
   "source": [
    "# test write, read and encoding\r\n",
    "raw = driver.find_element_by_xpath(\"//table[@class='content_table']\").get_attribute('innerHTML')\r\n",
    "with open('temp.log', 'w', encoding='utf-8') as f:\r\n",
    "    f.write(driver.find_element_by_xpath(\"//table[@class='content_table']\").get_attribute('innerHTML'))\r\n",
    "with open('./temp.log', 'r', encoding='utf-8') as f:\r\n",
    "    raw_text = f.read()\r\n",
    "print(raw_text)\r\n"
   ],
   "outputs": [],
   "metadata": {}
  },
  {
   "cell_type": "code",
   "execution_count": null,
   "source": [],
   "outputs": [],
   "metadata": {}
  },
  {
   "cell_type": "code",
   "execution_count": null,
   "source": [
    "pattern = r'(?<!class=)\"read.{7}'\r\n",
    "test_text = '<span class=\"read-count\" name=\"read-number\">阅读数：641</span>'\r\n",
    "re.search(pattern, test_text)"
   ],
   "outputs": [],
   "metadata": {
    "tags": []
   }
  },
  {
   "cell_type": "code",
   "execution_count": null,
   "source": [
    "re.search(r'[0-9][0-9].[0-9][0-9]', next_time).group(0)"
   ],
   "outputs": [],
   "metadata": {}
  },
  {
   "cell_type": "code",
   "execution_count": null,
   "source": [
    "print(re.search('com', 'www.runoob.com').group(0))  # 在起始位置匹配\r\n",
    "print(re.match('com', 'www.runoob.com'))         # 不在起始位置匹配"
   ],
   "outputs": [],
   "metadata": {}
  },
  {
   "cell_type": "code",
   "execution_count": null,
   "source": [],
   "outputs": [],
   "metadata": {}
  },
  {
   "cell_type": "code",
   "execution_count": null,
   "source": [
    "for i in avatars:\r\n",
    "    print(i)"
   ],
   "outputs": [],
   "metadata": {}
  },
  {
   "cell_type": "code",
   "execution_count": null,
   "source": [
    "avatars = {'Johnny':102198, 'Blackstick':100555, 'Phaziben':103225, 'Jan':102415, 'Lios':102324, 'Frint':101489}\r\n"
   ],
   "outputs": [],
   "metadata": {}
  },
  {
   "cell_type": "code",
   "execution_count": null,
   "source": [
    "import schedule\r\n",
    "\r\n",
    "\r\n",
    "# 定义你要周期运行的函数\r\n",
    "def job():\r\n",
    "    print(\"I'm working...\")\r\n",
    "    return schedule.CancelJob\r\n",
    "\r\n",
    "schedule.every().wednesday.at(\"13:15\").do(job)\r\n",
    "schedule.every().day.at(\"10:30\").do(job)         # 每天在 10:30 时间点运行 job 函数\r\n",
    "\r\n",
    "\r\n",
    "while True:\r\n",
    "    schedule.run_pending()   # 运行所有可以运行的任务\r\n",
    "    print(schedule.get_jobs())\r\n",
    "    time.sleep(60)"
   ],
   "outputs": [],
   "metadata": {}
  },
  {
   "cell_type": "code",
   "execution_count": null,
   "source": [
    "import time\r\n",
    "time.gmtime()"
   ],
   "outputs": [],
   "metadata": {}
  },
  {
   "cell_type": "code",
   "execution_count": null,
   "source": [
    "time.mktime(time.localtime())"
   ],
   "outputs": [],
   "metadata": {}
  },
  {
   "cell_type": "code",
   "execution_count": null,
   "source": [
    "time.ctime(58)"
   ],
   "outputs": [],
   "metadata": {}
  },
  {
   "cell_type": "code",
   "execution_count": null,
   "source": [
    "try:\r\n",
    "    print(\"try\")\r\n",
    "except Exception as e:\r\n",
    "    print(f\"Error {e}\")\r\n",
    "else:\r\n",
    "    print(\"else\")\r\n",
    "try:\r\n",
    "    print(\"try 2\")\r\n",
    "except Exception as e:\r\n",
    "    print(f\"Error 2 {e}\")\r\n",
    "else:\r\n",
    "    print(\"else 2\")\r\n",
    "finally:\r\n",
    "    print(\"finally\")"
   ],
   "outputs": [],
   "metadata": {}
  },
  {
   "cell_type": "code",
   "execution_count": null,
   "source": [
    "time1 = '23:59'  \r\n",
    "time2 = '00:01'\r\n",
    "(time1[:2], time2[:2]) == ('23', '00')"
   ],
   "outputs": [],
   "metadata": {}
  },
  {
   "cell_type": "code",
   "execution_count": null,
   "source": [
    "!python auto_login.py"
   ],
   "outputs": [
    {
     "output_type": "stream",
     "name": "stdout",
     "text": [
      "Current time: 08:21\n",
      "****************START ROTATION****************\n",
      "auto_login.py:78: DeprecationWarning: use options instead of firefox_options\n",
      "  driver = webdriver.Firefox(firefox_options=options) if headless else webdriver.Firefox()\n",
      "No dungeon is avaliable to start for main character 101489\n",
      "No dungeon is avaliable to speed up for main character 101489\n",
      "****************END ROTATION****************\n",
      "Next dungeon will start on : 10:24\n"
     ]
    }
   ],
   "metadata": {}
  },
  {
   "cell_type": "code",
   "execution_count": 15,
   "source": [
    "a = {\r\n",
    "    \"avatars\": {'Shiqian':102198, 'Volo':104539, 'Jan':102415, \r\n",
    "                'Phaziben':103225, 'Baggins':103900, 'Frint':101489,\r\n",
    "                'Bubu':106107, 'Artanis':106402, 'Russ':106407},\r\n",
    "    \"default_team\": [avatars['Volo'], avatars['Jan'], avatars['Shiqian']],\r\n",
    "    \"team1\" : [avatars['Russ'], avatars['Artanis'], avatars['Bubu']],\r\n",
    "    \"team2\" : [avatars['Frint'], avatars['Phaziben'], avatars['Baggins']],\r\n",
    "}\r\n",
    "a"
   ],
   "outputs": [
    {
     "output_type": "execute_result",
     "data": {
      "text/plain": [
       "{'avatars': {'Shiqian': 102198,\n",
       "  'Volo': 104539,\n",
       "  'Jan': 102415,\n",
       "  'Phaziben': 103225,\n",
       "  'Baggins': 103900,\n",
       "  'Frint': 101489,\n",
       "  'Bubu': 106107,\n",
       "  'Artanis': 106402,\n",
       "  'Russ': 106407},\n",
       " 'default_team': [104539, 102415, 102198],\n",
       " 'team1': [106407, 106402, 106107],\n",
       " 'team2': [101489, 103225, 103900]}"
      ]
     },
     "metadata": {},
     "execution_count": 15
    }
   ],
   "metadata": {}
  },
  {
   "cell_type": "code",
   "execution_count": 16,
   "source": [
    "avatars = a[\"avatars\"]\r\n",
    "default_team = a[\"default_team\"]\r\n",
    "team1 = a[\"team1\"]\r\n",
    "team2 = a[\"team2\"]"
   ],
   "outputs": [],
   "metadata": {}
  },
  {
   "cell_type": "code",
   "execution_count": 24,
   "source": [
    "with open(\"./config.json\", \"r\") as config:\r\n",
    "    cf = json.load(config)\r\n",
    "avatars = cf['avatars']\r\n",
    "default_team = [avatars[name] for name in cf['default_team']] \r\n",
    "team1 = [avatars[name] for name in cf['team1']] \r\n",
    "team2 = [avatars[name] for name in cf['team2']] "
   ],
   "outputs": [],
   "metadata": {}
  },
  {
   "cell_type": "code",
   "execution_count": 28,
   "source": [
    "team2"
   ],
   "outputs": [
    {
     "output_type": "execute_result",
     "data": {
      "text/plain": [
       "[106407, 106107, 106402]"
      ]
     },
     "metadata": {},
     "execution_count": 28
    }
   ],
   "metadata": {}
  },
  {
   "cell_type": "code",
   "execution_count": null,
   "source": [],
   "outputs": [],
   "metadata": {}
  }
 ],
 "metadata": {
  "interpreter": {
   "hash": "967d35f40ff2c1d266ffcfb0b6f007ae0bcc3aac5c0917f8999705f579b44df1"
  },
  "kernelspec": {
   "name": "python3",
   "display_name": "Python 3.7.0 64-bit ('wod': conda)"
  },
  "language_info": {
   "codemirror_mode": {
    "name": "ipython",
    "version": 3
   },
   "file_extension": ".py",
   "mimetype": "text/x-python",
   "name": "python",
   "nbconvert_exporter": "python",
   "pygments_lexer": "ipython3",
   "version": "3.7.0"
  }
 },
 "nbformat": 4,
 "nbformat_minor": 2
}