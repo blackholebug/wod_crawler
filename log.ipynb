{
 "metadata": {
  "language_info": {
   "codemirror_mode": {
    "name": "ipython",
    "version": 3
   },
   "file_extension": ".py",
   "mimetype": "text/x-python",
   "name": "python",
   "nbconvert_exporter": "python",
   "pygments_lexer": "ipython3",
   "version": "3.7.0"
  },
  "orig_nbformat": 4,
  "kernelspec": {
   "name": "python3",
   "display_name": "Python 3.7.0 64-bit ('wod': conda)"
  },
  "interpreter": {
   "hash": "967d35f40ff2c1d266ffcfb0b6f007ae0bcc3aac5c0917f8999705f579b44df1"
  }
 },
 "nbformat": 4,
 "nbformat_minor": 2,
 "cells": [
  {
   "source": [
    "There might be notifications from the website indicating what would be accessible and what not. \n",
    "```ADDRESS/robots.txt``` "
   ],
   "cell_type": "markdown",
   "metadata": {}
  },
  {
   "cell_type": "code",
   "execution_count": null,
   "metadata": {},
   "outputs": [],
   "source": [
    "import requests\n",
    "from bs4 import BeautifulSoup\n",
    "import http.cookiejar as cj\n",
    "import re"
   ]
  },
  {
   "cell_type": "code",
   "execution_count": null,
   "metadata": {},
   "outputs": [],
   "source": [
    "url = 'https://movie.douban.com/top250'\n",
    "headers = {\"User-Agent\": \"Mozilla/5.0 (Windows NT 10.0; Win64; x64) AppleWebKit/537.36 (KHTML, like Gecko) Chrome/91.0.4472.124 Safari/537.36\",\n",
    "# \"Accept\": \"text/html,application/xhtml+xml,application/xml;q=0.9,image/avif,image/webp,image/apng,*/*;q=0.8,application/signed-exchange;v=b3;q=0.9\",\n",
    "# \"Accept-Encoding\": \"gzip, deflate\",\n",
    "# \"Accept-Language\": \"en-US,en;q=0.9,zh-CN;q=0.8,zh;q=0.7,nl;q=0.6\"\n",
    "}"
   ]
  },
  {
   "cell_type": "code",
   "execution_count": null,
   "metadata": {},
   "outputs": [],
   "source": [
    "r = requests.get(url, headers=headers)\n",
    "# r.content\n",
    "# r.encoding = \"UTF-8\"\n",
    "# r.text"
   ]
  },
  {
   "cell_type": "code",
   "execution_count": null,
   "metadata": {},
   "outputs": [],
   "source": [
    "soup = BeautifulSoup(r.text)"
   ]
  },
  {
   "cell_type": "code",
   "execution_count": null,
   "metadata": {},
   "outputs": [],
   "source": [
    "# return a list\n",
    "soup.find_all('div', class_='info')"
   ]
  },
  {
   "cell_type": "code",
   "execution_count": null,
   "metadata": {},
   "outputs": [],
   "source": [
    "# return a Tag\n",
    "soup.find_all('div', class_='info')[0].find('p', class_='')"
   ]
  },
  {
   "cell_type": "code",
   "execution_count": null,
   "metadata": {},
   "outputs": [],
   "source": [
    "# return a generator\n",
    "for i in soup.find_all('div', class_='info')[0].find('p', class_='').strings:\n",
    "    print(f'before: \\n {i}')\n",
    "    print(f'after: \\n {i.strip()}')\n",
    "    print(type(i))"
   ]
  },
  {
   "cell_type": "code",
   "execution_count": null,
   "metadata": {},
   "outputs": [],
   "source": [
    "list(soup.find_all('div', class_='info')[0].find('p', class_='').strings)[0].strip().replace('\\xa0', '')"
   ]
  },
  {
   "cell_type": "code",
   "execution_count": null,
   "metadata": {},
   "outputs": [],
   "source": [
    "for each in soup.find_all('div', class_='info'): \n",
    "    # go to the last label set; similar: `next_sibling`\n",
    "    img_url = each.previous_sibling.a.image['src']\n",
    "    title = each.find('div', class_='hd').get_text(strip=True)\n",
    "    actor = list(each.find('p').strings)[0].strip().replace('\\xa0', '')\n",
    "\n",
    "\n",
    "    with open('*.jpg', 'wb') as img:\n",
    "        img.write(requests.get(img_url, headers=headers).content)\n",
    "    # with open('*.')\n",
    "    try: \n",
    "        url = 'https://movie.douban.com/top250' + soup.find('span',class_='next').a['href']\n",
    "    except TypeError: \n",
    "        url = none\n"
   ]
  },
  {
   "source": [
    "# Regularization"
   ],
   "cell_type": "markdown",
   "metadata": {}
  },
  {
   "cell_type": "code",
   "execution_count": null,
   "metadata": {},
   "outputs": [],
   "source": [
    "import re"
   ]
  },
  {
   "source": [
    "## pattern\n",
    "### expression: \n",
    "`r'PATTERN'`\n"
   ],
   "cell_type": "markdown",
   "metadata": {}
  },
  {
   "source": [
    "match a character: \n",
    "```python\n",
    "r'a'\n",
    "r'[abcd]'\n",
    "r'[a-zA-Z]'\n",
    "r'[12-56]'\n",
    "r'[{.|*&\\\\]' # use '\\' to transfer meaning\n",
    "r'[^0-9]'\n",
    "```\n"
   ],
   "cell_type": "markdown",
   "metadata": {}
  },
  {
   "cell_type": "code",
   "execution_count": null,
   "metadata": {},
   "outputs": [],
   "source": [
    "my_str = 'Isaac Newton, physicist'\n",
    "# return the first match in a Match object\n",
    "re.match(r'a', my_str) \n",
    "# return a Match object\n",
    "re.search(r'aa', my_str)\n",
    "re.findall(r'aa', my_str)"
   ]
  },
  {
   "cell_type": "code",
   "execution_count": 9,
   "metadata": {},
   "outputs": [],
   "source": [
    "from selenium import webdriver\n",
    "from selenium.webdriver.common.keys import Keys\n",
    "from selenium.webdriver.support.ui import Select\n",
    "\n",
    "import time\n",
    "\n",
    "def delay(sec=5):\n",
    "    time.sleep(sec)\n",
    "\n",
    "# headless mode\n",
    "options = webdriver.FirefoxOptions()\n",
    "options.add_argument(\"--headless\")\n",
    "\n",
    "driver = webdriver.Firefox()\n",
    "driver.get(\"http://delta.world-of-dungeons.org/\")\n",
    "Select(driver.find_element_by_id(\"world\")).select_by_value(\"CD\")\n",
    "driver.find_element_by_xpath('//*[@id=\"USERNAME\"]').send_keys('blackstick')\n",
    "driver.find_element_by_xpath('//*[@id=\"PASSWORT\"]').send_keys('mD8kMbRyF7giAJK', Keys.ENTER)\n",
    "\n",
    "delay()\n",
    "\n",
    "driver.get(\"http://delta.world-of-dungeons.org/wod/spiel/settings/heroes.php\")\n",
    "\n",
    "avatars = {'Johnny':102198, 'Blackstick':100555, 'Phaziben':103225, 'Jan':102415, 'Lios':102324, 'Frint':101489}\n",
    "# stayed_hero_id = [avatars['Johnny'], avatars['Blackstick']]\n",
    "rotate_hero_id = [avatars['Johnny'], avatars['Blackstick'], \n",
    "                    avatars['Phaziben'], avatars['Frint']]\n",
    "\n",
    "\n",
    "cur_char = avatars['Jan']\n",
    "\n",
    "# activate current avatar = Jan\n",
    "driver.find_element_by_xpath(f'//td/input[@value=\"{cur_char}\"]').click()\n",
    "driver.find_element_by_xpath('//p/input[@name=\"ok\"]').click()\n",
    "\n",
    "# driver.quit()"
   ]
  },
  {
   "cell_type": "code",
   "execution_count": 13,
   "metadata": {},
   "outputs": [
    {
     "output_type": "execute_result",
     "data": {
      "text/plain": [
       "'16:26'"
      ]
     },
     "metadata": {},
     "execution_count": 13
    }
   ],
   "source": [
    "driver.find_element_by_xpath('//span[@id=\"gadgetNextdungeonTime\"]').get_attribute(\"innerHTML\")"
   ]
  },
  {
   "cell_type": "code",
   "execution_count": 3,
   "metadata": {},
   "outputs": [
    {
     "output_type": "execute_result",
     "data": {
      "text/plain": [
       "icons/WOD/gems/gem_0.png\" alt=\"\"></td><td class=\"texttoken top right\">13/13</td><td class=\"texttoken top right\"></td><td class=\"texttoken top right\">&nbsp;</td>\\n</tr>\\n<tr><td valign=\"top\">9</td><td class=\"texttoken top\"> <img src=\"/wod/css//skins/skin-4/images/icons/zustand_6.gif\" alt=\"\" border=\"0\"><a href=\"http://world-of-dungeons.org/item/%E7%BF%A1%E7%BF%A0%E9%9D%B4&amp;is_popup=1&amp;world=CD&amp;id=77219877\" onclick=\"return wo(\\'/wod/spiel/hero/item.php?name=%E7%BF%A1%E7%BF%A0%E9%9D%B4&amp;is_popup=1&amp;world=CD&amp;id=77219877\\');\" class=\"report \">翡翠靴</a></td><td class=\"texttoken top right\">20/20</td><td class=\"texttoken top right\"></td><td class=\"texttoken top right\">&nbsp;</td>\\n</tr>\\n<tr><td valign=\"top\">10</td><td class=\"texttoken top\"> <img src=\"/wod/css//skins/skin-4/images/icons/zustand_6.gif\" alt=\"\" border=\"0\"><a href=\"http://world-of-dungeons.org/item/%E5%88%AB%E9%92%88&amp;is_popup=1&amp;world=CD&amp;id=76654476\" onclick=\"return wo(\\'/wod/spiel/hero/item.php?name=%E5%88%AB%E9%92%88&amp;is_popup=1&amp;world=CD&amp;id=76654476\\');\" class=\"report  rep_uni item_unique\">别针</a></td><td class=\"texttoken top right\"></td><td class=\"texttoken top right\"></td><td class=\"texttoken top right\">&nbsp;</td>\\n</tr>\\n<tr><td valign=\"top\">11</td><td class=\"texttoken top\"> <img src=\"/wod/css//skins/skin-4/images/icons/zustand_6.gif\" alt=\"\" border=\"0\"><a href=\"http://world-of-dungeons.org/item/%E6%A9%A1%E6%9C%A8%E5%8F%B6&amp;is_popup=1&amp;world=CD&amp;id=76849209\" onclick=\"return wo(\\'/wod/spiel/hero/item.php?name=%E6%A9%A1%E6%9C%A8%E5%8F%B6&amp;is_popup=1&amp;world=CD&amp;id=76849209\\');\" class=\"report  rep_uni item_unique\">橡木叶</a></td><td class=\"texttoken top right\"></td><td class=\"texttoken top right\"></td><td class=\"texttoken top right\">&nbsp;</td>\\n</tr>\\n<tr><td valign=\"top\">12</td><td class=\"texttoken top\"> <img src=\"/wod/css//skins/skin-4/images/icons/zustand_6.gif\" alt=\"\" border=\"0\"><a href=\"http://world-of-dungeons.org/item/%E4%B8%89%E5%8F%B6%E8%8D%89%E5%8B%8B%E7%AB%A0&amp;is_popup=1&amp;world=CD&amp;id=77104377\" onclick=\"return wo(\\'/wod/spiel/hero/item.php?name=%E4%B8%89%E5%8F%B6%E8%8D%89%E5%8B%8B%E7%AB%A0&amp;is_popup=1&amp;world=CD&amp;id=77104377\\');\" class=\"report  rep_uni item_unique\">三叶草勋章</a></td><td class=\"texttoken top right\"></td><td class=\"texttoken top right\"></td><td class=\"texttoken top right\">&nbsp;</td>\\n</tr>\\n<tr><td valign=\"top\">13</td><td class=\"texttoken top\"> <img src=\"/wod/css//skins/skin-4/images/icons/zustand_0.gif\" alt=\"\" border=\"0\"><a href=\"http://world-of-dungeons.org/item/%E6%AD%A3%E5%85%B8%3A+%E8%AF%97%E7%AF%87%E7%AC%AC05-05%E8%8A%82+-+%E9%BB%91%E9%AD%94%E6%B3%95%E9%98%B2%E5%BE%A1%E6%9C%AF&amp;is_popup=1&amp;world=CD&amp;id=76017876\" onclick=\"return wo(\\'/wod/spiel/hero/item.php?name=%E6%AD%A3%E5%85%B8%3A+%E8%AF%97%E7%AF%87%E7%AC%AC05-05%E8%8A%82+-+%E9%BB%91%E9%AD%94%E6%B3%95%E9%98%B2%E5%BE%A1%E6%9C%AF&amp;is_popup=1&amp;world=CD&amp;id=76017876\\');\" class=\"report \">正典: 诗篇第05-05节 - 黑魔法防御术</a></td><td class=\"texttoken top right\">15/15</td><td class=\"texttoken top right\"></td><td class=\"texttoken top right\">1/20</td>\\n</tr>\\n<tr><td valign=\"top\">14</td><td class=\"texttoken top\"> <img src=\"/wod/css//skins/skin-4/images/icons/zustand_2.gif\" alt=\"\" border=\"0\"><a href=\"http://world-of-dungeons.org/item/%E6%AD%A3%E5%85%B8%3A+%E8%AF%97%E7%AF%87%E7%AC%AC03-11%E8%8A%82+-+%E7%88%B1%E5%A5%A5%E6%8B%89%E7%9A%84%E6%8F%B4%E5%8A%A9&amp;is_popup=1&amp;world=CD&amp;id=76623640\" onclick=\"return wo(\\'/wod/spiel/hero/item.php?name=%E6%AD%A3%E5%85%B8%3A+%E8%AF%97%E7%AF%87%E7%AC%AC03-11%E8%8A%82+-+%E7%88%B1%E5%A5%A5%E6%8B%89%E7%9A%84%E6%8F%B4%E5%8A%A9&amp;is_popup=1&amp;world=CD&amp;id=76623640\\');\" class=\"report \">正典: 诗篇第03-11节 - 爱奥拉的援助</a></td><td class=\"texttoken top right\">12/12</td><td class=\"texttoken top right\"></td><td class=\"texttoken top right\">8/20</td>\\n</tr>\\n<tr><td valign=\"top\">15</td><td class=\"texttoken top\"> <img src=\"/wod/css//skins/skin-4/images/icons/zustand_2.gif\" alt=\"\" border=\"0\"><a href=\"http://world-of-dungeons.org/item/%E6%AD%A3%E5%85%B8%3A+%E8%AF%97%E7%AF%87%E7%AC%AC05-05%E8%8A%82+-+%E9%BB%91%E9%AD%94%E6%B3%95%E9%98%B2%E5%BE%A1%E6%9C%AF&amp;is_popup=1&amp;world=CD&amp;id=76908920\" onclick=\"return wo(\\'/wod/spiel/hero/item.php?name=%E6%AD%A3%E5%85%B8%3A+%E8%AF%97%E7%AF%87%E7%AC%AC05-05%E8%8A%82+-+%E9%BB%91%E9%AD%94%E6%B3%95%E9%98%B2%E5%BE%A1%E6%9C%AF&amp;is_popup=1&amp;world=CD&amp;id=76908920\\');\" onmouseover=\"return wodToolTip(this,\\'这是<b>团队物品</b>.\\');\" class=\"report  rep_group item_group_item\">正典: 诗篇第05-05节 - 黑魔法防御术<img src=\"/wod/css//skins/skin-4/images/icons/inf.gif\" alt=\"\" border=\"0\"></a></td><td class=\"texttoken top right\">15/15</td><td class=\"texttoken top right\"></td><td class=\"texttoken top right\">7/20</td>\\n</tr>\\n<tr><td valign=\"top\">16</td><td class=\"texttoken top\"> <img src=\"/wod/css//skins/skin-4/images/icons/zustand_6.gif\" alt=\"\" border=\"0\"><a href=\"http://world-of-dungeons.org/item/%E9%98%BF%E5%B0%94%E8%BE%BE%E5%AE%B9%E7%9A%84%E5%9C%A3%E7%89%A9&amp;is_popup=1&amp;world=CD&amp;id=76882894\" onclick=\"return wo(\\'/wod/spiel/hero/item.php?name=%E9%98%BF%E5%B0%94%E8%BE%BE%E5%AE%B9%E7%9A%84%E5%9C%A3%E7%89%A9&amp;is_popup=1&amp;world=CD&amp;id=76882894\\');\" class=\"report  rep_uni item_unique\">阿尔达容的圣物</a></td><td class=\"texttoken top right\"></td><td class=\"texttoken top right\"></td><td class=\"texttoken top right\">&nbsp;</td>\\n</tr>\\n<tr><td valign=\"top\">17</td><td class=\"texttoken top\"> <img src=\"/wod/css//skins/skin-4/images/icons/zustand_0.gif\" alt=\"\" border=\"0\"><a href=\"http://world-of-dungeons.org/item/%E6%AD%A3%E5%85%B8%3A+%E8%AF%97%E7%AF%87%E7%AC%AC03-11%E8%8A%82+-+%E7%88%B1%E5%A5%A5%E6%8B%89%E7%9A%84%E6%8F%B4%E5%8A%A9&amp;is_popup=1&amp;world=CD&amp;id=77129364\" onclick=\"return wo(\\'/wod/spiel/hero/item.php?name=%E6%AD%A3%E5%85%B8%3A+%E8%AF%97%E7%AF%87%E7%AC%AC03-11%E8%8A%82+-+%E7%88%B1%E5%A5%A5%E6%8B%89%E7%9A%84%E6%8F%B4%E5%8A%A9&amp;is_popup=1&amp;world=CD&amp;id=77129364\\');\" class=\"report \">正典: 诗篇第03-11节 - 爱奥拉的援助</a></td><td class=\"texttoken top right\">12/12</td><td class=\"texttoken top right\"></td><td class=\"texttoken top right\">1/20 (-6)</td>\\n</tr>\\n<tr><td valign=\"top\">18</td><td class=\"texttoken top\"> <img src=\"/wod/css//skins/skin-4/images/icons/zustand_0.gif\" alt=\"\" border=\"0\"><a href=\"http://world-of-dungeons.org/item/%E6%AD%A3%E5%85%B8%3A+%E8%AF%97%E7%AF%87%E7%AC%AC03-11%E8%8A%82+-+%E7%88%B1%E5%A5%A5%E6%8B%89%E7%9A%84%E6%8F%B4%E5%8A%A9&amp;is_popup=1&amp;world=CD&amp;id=77346150\" onclick=\"return wo(\\'/wod/spiel/hero/item.php?name=%E6%AD%A3%E5%85%B8%3A+%E8%AF%97%E7%AF%87%E7%AC%AC03-11%E8%8A%82+-+%E7%88%B1%E5%A5%A5%E6%8B%89%E7%9A%84%E6%8F%B4%E5%8A%A9&amp;is_popup=1&amp;world=CD&amp;id=77346150\\');\" class=\"report  rep_destroyed item_destroyed\">正典: 诗篇第03-11节 - 爱奥拉的援助</a></td><td class=\"texttoken top right\">12/12</td><td class=\"texttoken top right\"></td><td class=\"texttoken top right\">0/20 (-3)</td>\\n</tr>\\n<tr><td valign=\"top\">19</td><td class=\"texttoken top\"> <img src=\"/wod/css//skins/skin-4/images/icons/zustand_6.gif\" alt=\"\" border=\"0\"><a href=\"http://world-of-dungeons.org/item/%E5%B8%95%E6%B2%99%E9%9B%B7%E6%84%9F%E7%9F%A5%E4%B9%8B%E6%88%92&amp;is_popup=1&amp;world=CD&amp;id=77201604\" onclick=\"return wo(\\'/wod/spiel/hero/item.php?name=%E5%B8%95%E6%B2%99%E9%9B%B7%E6%84%9F%E7%9F%A5%E4%B9%8B%E6%88%92&amp;is_popup=1&amp;world=CD&amp;id=77201604\\');\" onmouseover=\"return wodToolTip(this,\\'这是<b>团队物品</b>.\\');\" class=\"report  rep_uni item_unique rep_group item_group_item\">帕沙雷感知之戒<img src=\"/wod/css//skins/skin-4/images/icons/inf.gif\" alt=\"\" border=\"0\"></a></td><td class=\"texttoken top right\">50/50</td><td class=\"texttoken top right\"></td><td class=\"texttoken top right\">&nbsp;</td>\\n</tr>\\n<tr><td valign=\"top\">20</td><td class=\"texttoken top\"> <img src=\"/wod/css//skins/skin-4/images/icons/zustand_6.gif\" alt=\"\" border=\"0\"><a href=\"http://world-of-dungeons.org/item/%E7%AE%80%E6%98%93%E5%85%89%E8%BE%89%E7%A5%9D%E7%A6%8F%E6%88%92%E6%8C%87&amp;is_popup=1&amp;world=CD&amp;id=77251533\" onclick=\"return wo(\\'/wod/spiel/hero/item.php?name=%E7%AE%80%E6%98%93%E5%85%89%E8%BE%89%E7%A5%9D%E7%A6%8F%E6%88%92%E6%8C%87&amp;is_popup=1&amp;world=CD&amp;id=77251533\\');\" onmouseover=\"return wodToolTip(this,\\'这是<b>团队物品</b>.\\');\" class=\"report  rep_uni item_unique rep_group item_group_item\">简易光辉祝福戒指<img src=\"/wod/css//skins/skin-4/images/icons/inf.gif\" alt=\"\" border=\"0\"></a></td><td class=\"texttoken top right\">16/16</td><td class=\"texttoken top right\"></td><td class=\"texttoken top right\">&nbsp;</td>\\n</tr>\\n</tbody></table>\\n</td><td width=\"20\"></td><td valign=\"top\">\\n<h3>战利品</h3>\\n<table>\\n<tbody><tr>\\n\\t<th colspan=\"2\">物品</th>\\n\\t<th colspan=\"2\">耐久度</th>\\n\\t<th colspan=\"2\">使用次数</th>\\n</tr>\\n<tr><td valign=\"top\">1</td><td class=\"texttoken top\"> <img src=\"/wod/css//skins/skin-4/images/icons/zustand_6.gif\" alt=\"\" border=\"0\"><a href=\"http://world-of-dungeons.org/item/%E9%9D%92%E9%93%9C%E8%80%B3%E7%8E%AF&amp;is_popup=1&amp;world=CD\" onclick=\"return wo(\\'/wod/spiel/hero/item.php?name=%E9%9D%92%E9%93%9C%E8%80%B3%E7%8E%AF&amp;is_popup=1&amp;world=CD\\');\" class=\"report \">青铜耳环</a> <img title=\"空\" src=\"/wod/css/icons/WOD/gems/gem_0.png\" alt=\"\"></td><td class=\"texttoken top right\">10/10</td><td class=\"texttoken top right\"></td><td class=\"texttoken top right\">&nbsp;</td>\\n</tr>\\n<tr><td valign=\"top\">2</td><td class=\"texttoken top\"> <img src=\"/wod/css//skins/skin-4/images/icons/zustand_1.gif\" alt=\"\" border=\"0\"><a href=\"http://world-of-dungeons.org/item/%E6%8A%84%E5%BD%95%E9%A1%B5%EF%BC%9A%E8%BF%9C%E7%A8%8B%E6%94%BB%E5%87%BB%E6%8A%80%E5%B7%A7&amp;is_popup=1&amp;world=CD\" onclick=\"return wo(\\'/wod/spiel/hero/item.php?name=%E6%8A%84%E5%BD%95%E9%A1%B5%EF%BC%9A%E8%BF%9C%E7%A8%8B%E6%94%BB%E5%87%BB%E6%8A%80%E5%B7%A7&amp;is_popup=1&amp;world=CD\\');\" class=\"report \">抄录页：远程攻击技巧</a></td><td class=\"texttoken top right\">23/23</td><td class=\"texttoken top right\"></td><td class=\"texttoken top right\">8/25</td>\\n</tr>\\n<tr><td valign=\"top\">3</td><td class=\"texttoken top\"> <img src=\"/wod/css//skins/skin-4/images/icons/zustand_6.gif\" alt=\"\" border=\"0\"><a href=\"http://world-of-dungeons.org/item/%E7%99%BD%E9%93%B6%E7%8F%A0%E5%AE%9D%E8%85%B0%E5%B8%A6&amp;is_popup=1&amp;world=CD\" onclick=\"return wo(\\'/wod/spiel/hero/item.php?name=%E7%99%BD%E9%93%B6%E7%8F%A0%E5%AE%9D%E8%85%B0%E5%B8%A6&amp;is_popup=1&amp;world=CD\\');\" class=\"report \">白银珠宝腰带</a> <img title=\"空\" src=\"/wod/css/icons/WOD/gems/gem_0.png\" alt=\"\"></td><td class=\"texttoken top right\">10/10</td><td class=\"texttoken top right\"></td><td class=\"texttoken top right\">&nbsp;</td>\\n</tr>\\n</tbody></table>\\n<p>沃尔夫·火铸找到396<img src=\"/wod/css//skins/skin-4/images/icons/lang/cn/gold.gif\" alt=\"金币\" title=\"金币\" border=\"0\">.</p>\\n</td></tr></tbody></table>\\n<hr>\\n<h2><a name=\"#102040\" href=\"../hero/profile.php?id=102040\">辛·艾维德</a></h2>\\n<table><tbody><tr><td valign=\"top\">\\n<h3>已装备物品</h3>\\n<table>\\n<tbody><tr>\\n\\t<th colspan=\"2\">物品</th>\\n\\t<th colspan=\"2\">耐久度</th>\\n\\t<th colspan=\"2\">使用次数</th>\\n</tr>\\n<tr><td valign=\"top\">1</td><td class=\"texttoken top\"> <img src=\"/wod/css//skins/skin-4/images/icons/zustand_6.gif\" alt=\"\" border=\"0\"><a href=\"http://world-of-dungeons.org/item/%E7%AE%80%E6%98%93%E6%8A%B5%E6%8A%97%E6%8A%A4%E8%BA%AB%E7%AC%A6&amp;is_popup=1&amp;world=CD&amp;id=76916016\" onclick=\"return wo(\\'/wod/spiel/hero/item.php?name=%E7%AE%80%E6%98%93%E6%8A%B5%E6%8A%97%E6%8A%A4%E8%BA%AB%E7%AC%A6&amp;is_popup=1&amp;world=CD&amp;id=76916016\\');\" class=\"report \">简易抵抗护身符</a></td><td class=\"texttoken top right\">12/12</td><td class=\"texttoken top right\"></td><td class=\"texttoken top right\">&nbsp;</td>\\n</tr>\\n<tr><td valign=\"top\">2</td><td class=\"texttoken top\"> <img src=\"/wod/css//skins/skin-4/images/icons/zustand_6.gif\" alt=\"\" border=\"0\"><a href=\"http://world-of-dungeons.org/item/%E5%8A%A0%E5%9B%BA%E7%9A%84%E7%9A%AE%E5%88%B6%E6%9D%9F%E8%85%B0%E5%A4%96%E8%A1%A3&amp;is_popup=1&amp;world=CD&amp;id=76542078\" onclick=\"return wo(\\'/wod/spiel/hero/item.php?name=%E5%8A%A0%E5%9B%BA%E7%9A%84%E7%9A%AE%E5%88%B6%E6%9D%9F%E8%85%B0%E5%A4%96%E8%A1%A3&amp;is_popup=1&amp;world=CD&amp;id=76542078\\');\" class=\"report \">加固的皮制束腰外衣</a> <img title=\"空\" src=\"/wod/css/icons/WOD/gems/gem_0.png\" alt=\"\"></td><td class=\"texttoken top right\">50/50</td><td class=\"texttoken top right\"></td><td class=\"texttoken top right\">&nbsp;</td>\\n</tr>\\n<tr><td valign=\"top\">3</td><td class=\"texttoken top\"> <img src=\"/wod/css//skins/skin-4/images/icons/zustand_6.gif\" alt=\"\" border=\"0\"><a href=\"http://world-of-dungeons.org/item/%E9%82%AA%E6%81%B6%E5%BC%BA%E7%9B%97%E6%8A%AB%E9%A3%8E&amp;is_popup=1&amp;world=CD&amp;id=75908241\" onclick=\"return wo(\\'/wod/spiel/hero/item.php?name=%E9%82%AA%E6%81%B6%E5%BC%BA%E7%9B%97%E6%8A%AB%E9%A3%8E&amp;is_popup=1&amp;world=CD&amp;id=75908241\\');\" onmouseover=\"return wodToolTip(this,\\'这是<b>团队物品</b>.\\');\" class=\"report  rep_uni item_unique rep_group item_group_item\">邪恶强盗披风<img src=\"/wod/css//skins/skin-4/images/icons/inf.gif\" alt=\"\" border=\"0\"></a></td><td class=\"texttoken top right\">9/9</td><td class=\"texttoken top right\"></td><td class=\"texttoken top right\">&nbsp;</td>\\n</tr>\\n<tr><td valign=\"top\">4</td><td class=\"texttoken top\"> <img src=\"/wod/css//skins/skin-4/images/icons/zustand_6.gif\" alt=\"\" border=\"0\"><a href=\"http://world-of-dungeons.org/item/%E9%95%BF%E7%9F%9B&amp;is_popup=1&amp;world=CD&amp;id=76527740\" onclick=\"return wo(\\'/wod/spiel/hero/item.php?name=%E9%95%BF%E7%9F%9B&amp;is_popup=1&amp;world=CD&amp;id=76527740\\');\" class=\"report \">长矛</a> <img title=\"空\" src=\"/wod/css/icons/WOD/gems/gem_0.png\" alt=\"\"></td><td class=\"texttoken top right\">40/40</td><td class=\"texttoken top right\"></td><td class=\"texttoken top right\">&nbsp;</td>\\n</tr>\\n<tr><td valign=\"top\">5</td><td class=\"texttoken top\"> <img src=\"/wod/css//skins/skin-4/images/icons/zustand_6.gif\" alt=\"\" border=\"0\"><a href=\"http://world-of-dungeons.org/item/%E7%9A%AE%E5%88%B6%E6%8A%A4%E8%83%AB&amp;is_popup=1&amp;world=CD&amp;id=76809951\" onclick=\"return wo(\\'/wod/spiel/hero/item.php?name=%E7%9A%AE%E5%88%B6%E6%8A%A4%E8%83%AB&amp;is_popup=1&amp;world=CD&amp;id=76809951\\');\" class=\"report \">皮制护胫</a> <img title=\"空\" src=\"/wod/css/icons/WOD/gems/gem_0.png\" alt=\"\"></td><td class=\"texttoken top right\">35/35</td><td class=\"texttoken top right\"></td><td class=\"texttoken top right\">&nbsp;</td>\\n</tr>\\n<tr><td valign=\"top\">6</td><td class=\"texttoken top\"> <img src=\"/wod/css//skins/skin-4/images/icons/zustand_6.gif\" alt=\"\" border=\"0\"><a href=\"http://world-of-dungeons.org/item/%E7%9A%AE%E9%9D%B4&amp;is_popup=1&amp;world=CD&amp;id=76900331\" onclick=\"return wo(\\'/wod/spiel/hero/item.php?name=%E7%9A%AE%E9%9D%B4&amp;is_popup=1&amp;world=CD&amp;id=76900331\\');\" class=\"report \">皮靴</a> <img title=\"空\" src=\"/wod/css/icons/WOD/gems/gem_0.png\" alt=\"\"></td><td class=\"texttoken top right\">20/20</td><td class=\"texttoken top right\"></td><td class=\"texttoken top right\">&nbsp;</td>\\n</tr>\\n<tr><td valign=\"top\">7</td><td class=\"texttoken top\"> <img src=\"/wod/css//skins/skin-4/images/icons/zustand_6.gif\" alt=\"\" border=\"0\"><a href=\"http://world-of-dungeons.org/item/%E5%88%AB%E9%92%88&amp;is_popup=1&amp;world=CD&amp;id=76862401\" onclick=\"return wo(\\'/wod/spiel/hero/item.php?name=%E5%88%AB%E9%92%88&amp;is_popup=1&amp;world=CD&amp;id=76862401\\');\" class=\"report  rep_uni item_unique\">别针</a></td><td class=\"texttoken top right\"></td><td class=\"texttoken top right\"></td><td class=\"texttoken top right\">&nbsp;</td>\\n</tr>\\n<tr><td valign=\"top\">8</td><td class=\"texttoken top\"> <img src=\"/wod/css//skins/skin-4/images/icons/zustand_6.gif\" alt=\"\" border=\"0\"><a href=\"http://world-of-dungeons.org/item/%E6%A9%A1%E6%9C%A8%E5%8F%B6&amp;is_popup=1&amp;world=CD&amp;id=76958298\" onclick=\"return wo(\\'/wod/spiel/hero/item.php?name=%E6%A9%A1%E6%9C%A8%E5%8F%B6&amp;is_popup=1&amp;world=CD&amp;id=76958298\\');\" class=\"report  rep_uni item_unique\">橡木叶</a></td><td class=\"texttoken top right\"></td><td class=\"texttoken top right\"></td><td class=\"texttoken top right\">&nbsp;</td>\\n</tr>\\n<tr><td valign=\"top\">9</td><td class=\"texttoken top\"> <img src=\"/wod/css//skins/skin-4/images/icons/zustand_6.gif\" alt=\"\" border=\"0\"><a href=\"http://world-of-dungeons.org/item/%E9%A9%AC%E8%B9%84%E9%93%81&amp;is_popup=1&amp;world=CD&amp;id=76532418\" onclick=\"return wo(\\'/wod/spiel/hero/item.php?name=%E9%A9%AC%E8%B9%84%E9%93%81&amp;is_popup=1&amp;world=CD&amp;id=76532418\\');\" class=\"report \">马蹄铁</a></td><td class=\"texttoken top right\">125/125</td><td class=\"texttoken top right\"></td><td class=\"texttoken top right\">&nbsp;</td>\\n</tr>\\n<tr><td valign=\"top\">10</td><td class=\"texttoken top\"> <img src=\"/wod/css//skins/skin-4/images/icons/zustand_6.gif\" alt=\"\" border=\"0\"><a href=\"http://world-of-dungeons.org/item/%E9%98%B2%E9%9B%B7%E6%89%8B%E5%86%8C&amp;is_popup=1&amp;world=CD&amp;id=76542076\" onclick=\"return wo(\\'/wod/spiel/hero/item.php?name=%E9%98%B2%E9%9B%B7%E6%89%8B%E5%86%8C&amp;is_popup=1&amp;world=CD&amp;id=76542076\\');\" class=\"report \">防雷手册</a></td><td class=\"texttoken top right\">5/5</td><td class=\"texttoken top right\"></td><td class=\"texttoken top right\">&nbsp;</td>\\n</tr>\\n<tr><td valign=\"top\">11</td><td class=\"texttoken top\"> <img src=\"/wod/css//skins/skin-4/images/icons/zustand_6.gif\" alt=\"\" border=\"0\"><a href=\"http://world-of-dungeons.org/item/%E6%96%B0%E4%BA%BA%E6%8C%87%E5%AF%BC%E6%89%8B%E5%86%8C&amp;is_popup=1&amp;world=CD&amp;id=76478883\" onclick=\"return wo(\\'/wod/spiel/hero/item.php?name=%E6%96%B0%E4%BA%BA%E6%8C%87%E5%AF%BC%E6%89%8B%E5%86%8C&amp;is_popup=1&amp;world=CD&amp;id=76478883\\');\" class=\"report  rep_uni item_unique\">新人指导手册</a></td><td class=\"texttoken top right\">10/10</td><td class=\"texttoken top right\"></td><td class=\"texttoken top right\">&nbsp;</td>\\n</tr>\\n<tr><td valign=\"top\">12</td><td class=\"texttoken top\"> <img src=\"/wod/css//skins/skin-4/images/icons/zustand_6.gif\" alt=\"\" border=\"0\"><a href=\"http://world-of-dungeons.org/item/%E4%B8%80%E7%93%B6%E5%8F%A4%E6%96%AF%E5%A1%94%E5%A4%AB%E8%92%B8%E9%A6%8F%E9%85%92&amp;is_popup=1&amp;world=CD&amp;id=76925029\" onclick=\"return wo(\\'/wod/spiel/hero/item.php?name=%E4%B8%80%E7%93%B6%E5%8F%A4%E6%96%AF%E5%A1%94%E5%A4%AB%E8%92%B8%E9%A6%8F%E9%85%92&amp;is_popup=1&amp;world=CD&amp;id=76925029\\');\" onmouseover=\"return wodToolTip(this,\\'这是<b>团队物品</b>.\\');\" class=\"report  rep_uni item_unique rep_group item_group_item\">一瓶古斯塔夫蒸馏酒<img src=\"/wod/css//skins/skin-4/images/icons/inf.gif\" alt=\"\" border=\"0\"></a></td><td class=\"texttoken top right\">7/7</td><td class=\"texttoken top right\"></td><td class=\"texttoken top right\">&nbsp;</td>\\n</tr>\\n<tr><td valign=\"top\">13</td><td class=\"texttoken top\"> <img src=\"/wod/css//skins/skin-4/images/icons/zustand_6.gif\" alt=\"\" border=\"0\"><a href=\"http://world-of-dungeons.org/item/%E7%AE%80%E6%98%93%E6%8A%B5%E6%8A%97%E6%88%92%E6%8C%87&amp;is_popup=1&amp;world=CD&amp;id=76809953\" onclick=\"return wo(\\'/wod/spiel/hero/item.php?name=%E7%AE%80%E6%98%93%E6%8A%B5%E6%8A%97%E6%88%92%E6%8C%87&amp;is_popup=1&amp;world=CD&amp;id=76809953\\');\" class=\"report \">简易抵抗戒指</a></td><td class=\"texttoken top right\">8/8</td><td class=\"texttoken top right\"></td><td class=\"texttoken top right\">&nbsp;</td>\\n</tr>\\n</tbody></table>\\n</td><td width=\"20\"></td><td valign=\"top\">\\n<h3>战利品</h3>\\n<table>\\n<tbody><tr>\\n\\t<th colspan=\"2\">物品</th>\\n\\t<th colspan=\"2\">耐久度</th>\\n\\t<th colspan=\"2\">使用次数</th>\\n</tr>\\n<tr><td valign=\"top\">1</td><td class=\"texttoken top\"> <img src=\"/wod/css//skins/skin-4/images/icons/zustand_2.gif\" alt=\"\" border=\"0\"><a href=\"http://world-of-dungeons.org/item/%E7%AE%AD&amp;is_popup=1&amp;world=CD\" onclick=\"return wo(\\'/wod/spiel/hero/item.php?name=%E7%AE%AD&amp;is_popup=1&amp;world=CD\\');\" class=\"report \">箭</a> <img title=\"空\" src=\"/wod/css/icons/WOD/gems/gem_0.png\" alt=\"\"><img title=\"空\" src=\"/wod/css/icons/WOD/gems/gem_0.png\" alt=\"\"></td><td class=\"texttoken top right\">25/25</td><td class=\"texttoken top right\"></td><td class=\"texttoken top right\">71/150</td>\\n</tr>\\n</tbody></table>\\n<p>辛·艾维德找到377<img src=\"/wod/css//skins/skin-4/images/icons/lang/cn/gold.gif\" alt=\"金币\" title=\"金币\" border=\"0\">.</p>\\n</td></tr></tbody></table>\\n</td>\\n        </tr>\\n    </tbody>'"
      ]
     },
     "metadata": {},
     "execution_count": 3
    }
   ],
   "source": [
    "# Report\n",
    "driver.get(f\"http://delta.world-of-dungeons.org/wod/spiel/dungeon/report.php?session_hero_id={cur_char}\")\n",
    "\n",
    "driver.find_element_by_xpath(\"/html/body/div[8]/table/tbody/tr[3]/td[2]/div/div/div[2]/div[4]/div/div/form/table/tbody/tr[2]/td[3]/input[3]\").click()\n",
    "driver.find_element_by_xpath(\"//table[@class='content_table']\").get_attribute('innerHTML')\n"
   ]
  },
  {
   "cell_type": "code",
   "execution_count": null,
   "metadata": {},
   "outputs": [],
   "source": []
  },
  {
   "source": [
    "re.search(r'[0-9][0-9].[0-9][0-9]', next_time).group(0)"
   ],
   "cell_type": "code",
   "metadata": {},
   "execution_count": null,
   "outputs": []
  },
  {
   "cell_type": "code",
   "execution_count": null,
   "metadata": {},
   "outputs": [],
   "source": [
    "print(re.search('com', 'www.runoob.com').group(0))  # 在起始位置匹配\n",
    "print(re.match('com', 'www.runoob.com'))         # 不在起始位置匹配"
   ]
  },
  {
   "cell_type": "code",
   "execution_count": null,
   "metadata": {},
   "outputs": [],
   "source": []
  },
  {
   "cell_type": "code",
   "execution_count": 1,
   "metadata": {},
   "outputs": [],
   "source": [
    "for i in avatars:\n",
    "    print(i)"
   ]
  },
  {
   "cell_type": "code",
   "execution_count": 2,
   "metadata": {},
   "outputs": [
    {
     "output_type": "stream",
     "name": "stdout",
     "text": [
      "Johnny\nBlackstick\nPhaziben\nJan\nLios\nFrint\n"
     ]
    }
   ],
   "source": [
    "avatars = {'Johnny':102198, 'Blackstick':100555, 'Phaziben':103225, 'Jan':102415, 'Lios':102324, 'Frint':101489}\n"
   ]
  },
  {
   "cell_type": "code",
   "execution_count": 6,
   "metadata": {},
   "outputs": [
    {
     "output_type": "stream",
     "name": "stdout",
     "text": [
      "[Every 1 week at 13:15:00 do job() (last run: [never], next run: 2021-07-21 13:15:00), Every 1 day at 10:30:00 do job() (last run: [never], next run: 2021-07-20 10:30:00), Every 1 week at 13:15:00 do job() (last run: [never], next run: 2021-07-21 13:15:00), Every 1 day at 10:30:00 do job() (last run: [never], next run: 2021-07-20 10:30:00), Every 1 week at 13:15:00 do job() (last run: [never], next run: 2021-07-21 13:15:00), Every 1 day at 10:30:00 do job() (last run: [never], next run: 2021-07-20 10:30:00), Every 1 week at 13:15:00 do job() (last run: [never], next run: 2021-07-21 13:15:00), Every 1 day at 10:30:00 do job() (last run: [never], next run: 2021-07-20 10:30:00)]\n"
     ]
    }
   ],
   "source": [
    "import schedule\n",
    "\n",
    "\n",
    "# 定义你要周期运行的函数\n",
    "def job():\n",
    "    print(\"I'm working...\")\n",
    "    return schedule.CancelJob\n",
    "\n",
    "schedule.every().wednesday.at(\"13:15\").do(job)\n",
    "schedule.every().day.at(\"10:30\").do(job)         # 每天在 10:30 时间点运行 job 函数\n",
    "\n",
    "\n",
    "while True:\n",
    "    schedule.run_pending()   # 运行所有可以运行的任务\n",
    "    print(schedule.get_jobs())\n",
    "    time.sleep(60)"
   ]
  },
  {
   "cell_type": "code",
   "execution_count": 1,
   "metadata": {},
   "outputs": [
    {
     "output_type": "execute_result",
     "data": {
      "text/plain": [
       "time.struct_time(tm_year=2021, tm_mon=7, tm_mday=19, tm_hour=13, tm_min=5, tm_sec=36, tm_wday=0, tm_yday=200, tm_isdst=0)"
      ]
     },
     "metadata": {},
     "execution_count": 1
    }
   ],
   "source": [
    "import time\n",
    "time.gmtime()"
   ]
  },
  {
   "cell_type": "code",
   "execution_count": 8,
   "metadata": {},
   "outputs": [
    {
     "output_type": "execute_result",
     "data": {
      "text/plain": [
       "1626700141.0"
      ]
     },
     "metadata": {},
     "execution_count": 8
    }
   ],
   "source": [
    "time.mktime(time.localtime())"
   ]
  },
  {
   "cell_type": "code",
   "execution_count": 30,
   "metadata": {},
   "outputs": [
    {
     "output_type": "execute_result",
     "data": {
      "text/plain": [
       "'Thu Jan  1 01:00:58 1970'"
      ]
     },
     "metadata": {},
     "execution_count": 30
    }
   ],
   "source": [
    "time.ctime(58)"
   ]
  },
  {
   "cell_type": "code",
   "execution_count": 35,
   "metadata": {},
   "outputs": [
    {
     "output_type": "stream",
     "name": "stdout",
     "text": [
      "try\nelse\nError 2 name 'f' is not defined\nfinally\n"
     ]
    }
   ],
   "source": [
    "try:\n",
    "    print(\"try\")\n",
    "except Exception as e:\n",
    "    print(f\"Error {e}\")\n",
    "else:\n",
    "    print(\"else\")\n",
    "try:\n",
    "    print(\"try 2\")\n",
    "except Exception as e:\n",
    "    print(f\"Error 2 {e}\")\n",
    "else:\n",
    "    print(\"else 2\")\n",
    "finally:\n",
    "    print(\"finally\")"
   ]
  },
  {
   "cell_type": "code",
   "execution_count": null,
   "metadata": {},
   "outputs": [],
   "source": []
  }
 ]
}